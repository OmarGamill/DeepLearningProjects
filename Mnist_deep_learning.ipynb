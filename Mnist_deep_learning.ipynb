{
 "cells": [
  {
   "cell_type": "code",
   "execution_count": 6,
   "id": "fc8cee27",
   "metadata": {},
   "outputs": [],
   "source": [
    "import tensorflow as tf\n",
    "import numpy as np\n",
    "import matplotlib.pyplot as plt\n",
    "%matplotlib inline\n",
    "from tensorflow.keras.layers import Dense,Flatten\n",
    "from tensorflow.keras import Sequential\n",
    "from tensorflow.keras.activations import linear, relu, sigmoid,softmax\n",
    "from tensorflow.keras.losses import BinaryCrossentropy,SparseCategoricalCrossentropy,MeanSquaredError\n",
    "from tensorflow.keras.optimizers import Adam"
   ]
  },
  {
   "cell_type": "code",
   "execution_count": 8,
   "id": "964be76a",
   "metadata": {},
   "outputs": [
    {
     "name": "stdout",
     "output_type": "stream",
     "text": [
      "Downloading data from https://storage.googleapis.com/tensorflow/tf-keras-datasets/mnist.npz\n",
      "11490434/11490434 [==============================] - 81s 7us/step\n"
     ]
    }
   ],
   "source": [
    "#load data\n",
    "mnist = tf.keras.datasets.mnist\n",
    "(x_train, y_train),(x_test, y_test)=mnist.load_data()"
   ]
  },
  {
   "cell_type": "code",
   "execution_count": 9,
   "id": "15fdebf1",
   "metadata": {},
   "outputs": [],
   "source": [
    "#normalizing of input \n",
    "x_train, x_test = x_train / 255.0, x_test / 255.0\n",
    "#or \n",
    "#x_train = tf.keras.utils.normalize(x_train, axis=1)\n",
    "#x_test = tf.keras.utils.normalize(x_test, axis=1)"
   ]
  },
  {
   "cell_type": "code",
   "execution_count": 10,
   "id": "282a8472",
   "metadata": {},
   "outputs": [
    {
     "data": {
      "image/png": "[encoded data removed]",
      "text/plain": [
       "<Figure size 432x288 with 1 Axes>"
      ]
     },
     "metadata": {
      "needs_background": "light"
     },
     "output_type": "display_data"
    },
    {
     "name": "stdout",
     "output_type": "stream",
     "text": [
      "4\n"
     ]
    }
   ],
   "source": [
    "\n",
    "plt.imshow(x_train[20],cmap=plt.cm.binary)\n",
    "plt.show()\n",
    "print(y_train[20])"
   ]
  },
  {
   "cell_type": "code",
   "execution_count": 11,
   "id": "6d685b72",
   "metadata": {},
   "outputs": [],
   "source": [
    "model=Sequential()"
   ]
  },
  {
   "cell_type": "code",
   "execution_count": 12,
   "id": "f31e05c0",
   "metadata": {},
   "outputs": [],
   "source": [
    "model.add(Flatten(input_shape=(28,28)))\n",
    "model.add(Dense(units=128,activation='relu'))\n",
    "model.add(Dense(units=64,activation='relu'))\n",
    "model.add(Dense(units=10,activation='softmax'))\n"
   ]
  },
  {
   "cell_type": "code",
   "execution_count": 13,
   "id": "dee2d034",
   "metadata": {},
   "outputs": [],
   "source": [
    "model.compile(optimizer='adam',loss='sparse_categorical_crossentropy',metrics=['accuracy'])"
   ]
  },
  {
   "cell_type": "code",
   "execution_count": 14,
   "id": "b2526424",
   "metadata": {},
   "outputs": [
    {
     "name": "stdout",
     "output_type": "stream",
     "text": [
      "Epoch 1/10\n",
      "1875/1875 [==============================] - 4s 2ms/step - loss: 0.2396 - accuracy: 0.9304\n",
      "Epoch 2/10\n",
      "1875/1875 [==============================] - 3s 2ms/step - loss: 0.0994 - accuracy: 0.9692\n",
      "Epoch 3/10\n",
      "1875/1875 [==============================] - 3s 2ms/step - loss: 0.0691 - accuracy: 0.9783\n",
      "Epoch 4/10\n",
      "1875/1875 [==============================] - 3s 2ms/step - loss: 0.0527 - accuracy: 0.9835\n",
      "Epoch 5/10\n",
      "1875/1875 [==============================] - 3s 2ms/step - loss: 0.0417 - accuracy: 0.9865\n",
      "Epoch 6/10\n",
      "1875/1875 [==============================] - 3s 2ms/step - loss: 0.0344 - accuracy: 0.9887\n",
      "Epoch 7/10\n",
      "1875/1875 [==============================] - 3s 2ms/step - loss: 0.0285 - accuracy: 0.9908\n",
      "Epoch 8/10\n",
      "1875/1875 [==============================] - 3s 2ms/step - loss: 0.0235 - accuracy: 0.9919\n",
      "Epoch 9/10\n",
      "1875/1875 [==============================] - 3s 2ms/step - loss: 0.0214 - accuracy: 0.9927\n",
      "Epoch 10/10\n",
      "1875/1875 [==============================] - 3s 2ms/step - loss: 0.0197 - accuracy: 0.9935\n"
     ]
    },
    {
     "data": {
      "text/plain": [
       "<keras.callbacks.History at 0x237e7ff48e0>"
      ]
     },
     "execution_count": 14,
     "metadata": {},
     "output_type": "execute_result"
    }
   ],
   "source": [
    "model.fit(x_train,y_train,epochs=10)"
   ]
  },
  {
   "cell_type": "code",
   "execution_count": 15,
   "id": "794408e8",
   "metadata": {},
   "outputs": [
    {
     "name": "stdout",
     "output_type": "stream",
     "text": [
      "313/313 [==============================] - 1s 1ms/step - loss: 0.1025 - accuracy: 0.9743\n",
      "0.10250896215438843\n",
      "0.9743000268936157\n"
     ]
    }
   ],
   "source": [
    "val_loss, val_acc = model.evaluate(x_test, y_test)\n",
    "print(val_loss)\n",
    "print(val_acc)"
   ]
  },
  {
   "cell_type": "code",
   "execution_count": 25,
   "id": "8f7b00ea",
   "metadata": {},
   "outputs": [
    {
     "name": "stdout",
     "output_type": "stream",
     "text": [
      "INFO:tensorflow:Assets written to: kerasNN.model\\assets\n"
     ]
    }
   ],
   "source": [
    "model.save('kerasNN.model')"
   ]
  },
  {
   "cell_type": "code",
   "execution_count": 26,
   "id": "f0c1af8f",
   "metadata": {},
   "outputs": [
    {
     "name": "stdout",
     "output_type": "stream",
     "text": [
      "313/313 [==============================] - 0s 1ms/step\n",
      "[[2.7446914e-13 1.7703486e-10 2.6761321e-11 ... 9.9999928e-01\n",
      "  2.7361506e-13 7.1436119e-07]\n",
      " [2.7201504e-14 4.1595353e-08 1.0000000e+00 ... 2.1024275e-13\n",
      "  3.0307152e-12 1.1479755e-16]\n",
      " [2.5257855e-11 9.9999821e-01 6.5369665e-09 ... 1.7211013e-07\n",
      "  5.3024493e-08 6.4699957e-09]\n",
      " ...\n",
      " [2.8137057e-18 2.8019920e-15 4.3213906e-15 ... 1.1998073e-12\n",
      "  3.2885709e-14 1.8004467e-09]\n",
      " [2.9392057e-13 3.0171330e-19 3.7080754e-14 ... 6.8436694e-16\n",
      "  2.6604665e-09 2.2747210e-15]\n",
      " [1.0935432e-17 2.8963729e-19 9.4895533e-21 ... 2.6733411e-24\n",
      "  2.2940994e-13 1.8011648e-20]]\n"
     ]
    }
   ],
   "source": [
    "new_model = tf.keras.models.load_model('kerasNN.model')\n",
    "predictions = new_model.predict(x_test)\n",
    "print(predictions)"
   ]
  },
  {
   "cell_type": "code",
   "execution_count": 28,
   "id": "bf463459",
   "metadata": {},
   "outputs": [
    {
     "name": "stdout",
     "output_type": "stream",
     "text": [
      "6\n"
     ]
    },
    {
     "data": {
      "image/png": "[encoded data removed]",
      "text/plain": [
       "<Figure size 432x288 with 1 Axes>"
      ]
     },
     "metadata": {
      "needs_background": "light"
     },
     "output_type": "display_data"
    }
   ],
   "source": [
    "print(np.argmax(predictions[100]))\n",
    "plt.imshow(x_test[100],cmap=plt.cm.binary)\n",
    "plt.show()"
   ]
  },
  {
   "cell_type": "code",
   "execution_count": null,
   "id": "624137c2",
   "metadata": {},
   "outputs": [],
   "source": []
  }
 ],
 "metadata": {
  "kernelspec": {
   "display_name": "Python 3 (ipykernel)",
   "language": "python",
   "name": "python3"
  },
  "language_info": {
   "codemirror_mode": {
    "name": "ipython",
    "version": 3
   },
   "file_extension": ".py",
   "mimetype": "text/x-python",
   "name": "python",
   "nbconvert_exporter": "python",
   "pygments_lexer": "ipython3",
   "version": "3.9.12"
  }
 },
 "nbformat": 4,
 "nbformat_minor": 5
}
